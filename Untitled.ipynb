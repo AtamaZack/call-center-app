{
 "cells": [
  {
   "cell_type": "code",
   "execution_count": null,
   "metadata": {},
   "outputs": [],
   "source": [
    "pd.Timestamp(year=2020, month=1, day=1, hour=0, minute=data.loc[0, 'call_duration'])\n",
    "# Time functionality\n",
    "# data.call_start_date = data.call_start_date.dt.time\n",
    "# call_duration = lambda x: x.call_duration\n",
    "# data.call_duration = str((round(data.call_duration).astype(int)).astype(str)).zfill(2)\n",
    "# data.call_duration = '0000-00-00 00:{duration}:00'.format(duration = str(1).zfill(2))\n",
    "# '0000-00-00 00:{duration}:00'.format(duration = str(round(data.call_duration).astype(int)).zfill(2))\n",
    "# round(data.call_duration).astype(int)\n",
    "# '0000-00-00 00:00:00'.format(duration = str(round(data.call_duration).astype(int)).zfill(2))\n",
    "# datetime.datetime.strptime('0000-00-29 00:{duration}:00'.format(duration = str(data.call_duration).zfill(2)), '%Y-%m-%d %H:%M:%S.%f')\n",
    "# pd.to_datetime('0000-00-00 00:00:00'.format(duration = str(data.call_duration).zfill(2)))\n",
    "# data.call_duration - pd.Timestamp('000-00-00 00:{duration}:00'.format(duration = str(data.call_duration.dt.minute).zfill(2)), tz=None).to_datetime()\n",
    "# data.call_end_date.dt.minute = data.call_end_date.dt.minute - data.call_duration"
   ]
  }
 ],
 "metadata": {
  "kernelspec": {
   "display_name": "Python 3",
   "language": "python",
   "name": "python3"
  },
  "language_info": {
   "codemirror_mode": {
    "name": "ipython",
    "version": 3
   },
   "file_extension": ".py",
   "mimetype": "text/x-python",
   "name": "python",
   "nbconvert_exporter": "python",
   "pygments_lexer": "ipython3",
   "version": "3.8.3"
  }
 },
 "nbformat": 4,
 "nbformat_minor": 4
}
