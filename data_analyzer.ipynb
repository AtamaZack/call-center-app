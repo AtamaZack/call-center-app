{
 "cells": [
  {
   "cell_type": "markdown",
   "metadata": {},
   "source": [
    "#### Library Importations\n",
    "- These are the Data analysis and vizualization tools being used for the assignment."
   ]
  },
  {
   "cell_type": "code",
   "execution_count": 204,
   "metadata": {},
   "outputs": [],
   "source": [
    "import datetime\n",
    "import time\n",
    "import numpy as np\n",
    "import pandas as pd\n",
    "import matplotlib as plt"
   ]
  },
  {
   "cell_type": "markdown",
   "metadata": {},
   "source": [
    "#### Import Data file\n",
    "- Importing and storing the data from the `.csv` file being used for the assignment."
   ]
  },
  {
   "cell_type": "code",
   "execution_count": 327,
   "metadata": {},
   "outputs": [],
   "source": [
    "data = pd.read_csv('files/company_A_call_records.csv', parse_dates=['call_end_date'])\n",
    "\n",
    "# Add call_start_date\n",
    "data['call_start_date'] = pd.Timestamp(year=2017, month=1, day=1, hour=0, minute=0)\n",
    "data['call_start_date'] = data['call_start_date'].dt.time\n",
    "\n",
    "# Coverting call_end_date time\n",
    "data.call_end_date = data.call_end_date.dt.time\n",
    "\n",
    "# Covert call_duration to int\n",
    "data.call_duration = round(data.call_duration).astype(int)"
   ]
  },
  {
   "cell_type": "markdown",
   "metadata": {},
   "source": [
    "#### Getting the summary of our data"
   ]
  },
  {
   "cell_type": "code",
   "execution_count": 328,
   "metadata": {},
   "outputs": [
    {
     "data": {
      "text/html": [
       "<div>\n",
       "<style scoped>\n",
       "    .dataframe tbody tr th:only-of-type {\n",
       "        vertical-align: middle;\n",
       "    }\n",
       "\n",
       "    .dataframe tbody tr th {\n",
       "        vertical-align: top;\n",
       "    }\n",
       "\n",
       "    .dataframe thead th {\n",
       "        text-align: right;\n",
       "    }\n",
       "</style>\n",
       "<table border=\"1\" class=\"dataframe\">\n",
       "  <thead>\n",
       "    <tr style=\"text-align: right;\">\n",
       "      <th></th>\n",
       "      <th>call_id</th>\n",
       "      <th>destination_person_id</th>\n",
       "      <th>source_person_id</th>\n",
       "      <th>account_age</th>\n",
       "      <th>account_state</th>\n",
       "      <th>occupation</th>\n",
       "      <th>language</th>\n",
       "      <th>call_direction</th>\n",
       "      <th>call_duration</th>\n",
       "      <th>call_outcome</th>\n",
       "      <th>call_end_date</th>\n",
       "      <th>call_topics</th>\n",
       "      <th>call_topic_group</th>\n",
       "      <th>call_start_date</th>\n",
       "    </tr>\n",
       "  </thead>\n",
       "  <tbody>\n",
       "    <tr>\n",
       "      <th>0</th>\n",
       "      <td>2807990</td>\n",
       "      <td>86394</td>\n",
       "      <td>269898</td>\n",
       "      <td>301</td>\n",
       "      <td>In Repayment</td>\n",
       "      <td>Farmer</td>\n",
       "      <td>Luganda</td>\n",
       "      <td>Incoming</td>\n",
       "      <td>1</td>\n",
       "      <td>Call Resolved</td>\n",
       "      <td>04:01:00</td>\n",
       "      <td>Call Dropped</td>\n",
       "      <td>Other</td>\n",
       "      <td>00:00:00</td>\n",
       "    </tr>\n",
       "    <tr>\n",
       "      <th>1</th>\n",
       "      <td>2807991</td>\n",
       "      <td>86394</td>\n",
       "      <td>320367</td>\n",
       "      <td>122</td>\n",
       "      <td>In Repayment</td>\n",
       "      <td>Other</td>\n",
       "      <td>Luganda</td>\n",
       "      <td>Incoming</td>\n",
       "      <td>2</td>\n",
       "      <td>Call Resolved</td>\n",
       "      <td>04:04:00</td>\n",
       "      <td>Code Not Received</td>\n",
       "      <td>Codes</td>\n",
       "      <td>00:00:00</td>\n",
       "    </tr>\n",
       "    <tr>\n",
       "      <th>2</th>\n",
       "      <td>2807992</td>\n",
       "      <td>212967</td>\n",
       "      <td>129042</td>\n",
       "      <td>695</td>\n",
       "      <td>In Repayment</td>\n",
       "      <td>Mechanic / Technician</td>\n",
       "      <td>Luganda</td>\n",
       "      <td>Incoming</td>\n",
       "      <td>5</td>\n",
       "      <td>Call Resolved</td>\n",
       "      <td>04:05:00</td>\n",
       "      <td>RP Remote Technical</td>\n",
       "      <td>Accessory Technical Issue</td>\n",
       "      <td>00:00:00</td>\n",
       "    </tr>\n",
       "    <tr>\n",
       "      <th>3</th>\n",
       "      <td>2807993</td>\n",
       "      <td>114159</td>\n",
       "      <td>372282</td>\n",
       "      <td>22</td>\n",
       "      <td>In Repayment</td>\n",
       "      <td>Farmer</td>\n",
       "      <td>Lango</td>\n",
       "      <td>Incoming</td>\n",
       "      <td>4</td>\n",
       "      <td>Call Resolved</td>\n",
       "      <td>04:06:00</td>\n",
       "      <td>Code Not Received</td>\n",
       "      <td>Codes</td>\n",
       "      <td>00:00:00</td>\n",
       "    </tr>\n",
       "    <tr>\n",
       "      <th>4</th>\n",
       "      <td>2807994</td>\n",
       "      <td>86394</td>\n",
       "      <td>366749</td>\n",
       "      <td>44</td>\n",
       "      <td>In Repayment</td>\n",
       "      <td>Electrician</td>\n",
       "      <td>Luganda</td>\n",
       "      <td>Incoming</td>\n",
       "      <td>3</td>\n",
       "      <td>Call Resolved</td>\n",
       "      <td>04:07:00</td>\n",
       "      <td>Code Not Received</td>\n",
       "      <td>Codes</td>\n",
       "      <td>00:00:00</td>\n",
       "    </tr>\n",
       "  </tbody>\n",
       "</table>\n",
       "</div>"
      ],
      "text/plain": [
       "   call_id  destination_person_id  source_person_id  account_age  \\\n",
       "0  2807990                  86394            269898          301   \n",
       "1  2807991                  86394            320367          122   \n",
       "2  2807992                 212967            129042          695   \n",
       "3  2807993                 114159            372282           22   \n",
       "4  2807994                  86394            366749           44   \n",
       "\n",
       "  account_state             occupation language call_direction  call_duration  \\\n",
       "0  In Repayment                 Farmer  Luganda       Incoming              1   \n",
       "1  In Repayment                  Other  Luganda       Incoming              2   \n",
       "2  In Repayment  Mechanic / Technician  Luganda       Incoming              5   \n",
       "3  In Repayment                 Farmer    Lango       Incoming              4   \n",
       "4  In Repayment            Electrician  Luganda       Incoming              3   \n",
       "\n",
       "    call_outcome call_end_date          call_topics  \\\n",
       "0  Call Resolved      04:01:00         Call Dropped   \n",
       "1  Call Resolved      04:04:00    Code Not Received   \n",
       "2  Call Resolved      04:05:00  RP Remote Technical   \n",
       "3  Call Resolved      04:06:00    Code Not Received   \n",
       "4  Call Resolved      04:07:00    Code Not Received   \n",
       "\n",
       "            call_topic_group call_start_date  \n",
       "0                      Other        00:00:00  \n",
       "1                      Codes        00:00:00  \n",
       "2  Accessory Technical Issue        00:00:00  \n",
       "3                      Codes        00:00:00  \n",
       "4                      Codes        00:00:00  "
      ]
     },
     "execution_count": 328,
     "metadata": {},
     "output_type": "execute_result"
    }
   ],
   "source": [
    "data.head()"
   ]
  },
  {
   "cell_type": "code",
   "execution_count": 329,
   "metadata": {},
   "outputs": [
    {
     "data": {
      "text/plain": [
       "(32028, 14)"
      ]
     },
     "execution_count": 329,
     "metadata": {},
     "output_type": "execute_result"
    }
   ],
   "source": [
    "# The number of rows and columns in the data set\n",
    "data.shape"
   ]
  },
  {
   "cell_type": "code",
   "execution_count": 330,
   "metadata": {},
   "outputs": [
    {
     "name": "stdout",
     "output_type": "stream",
     "text": [
      "<class 'pandas.core.frame.DataFrame'>\n",
      "RangeIndex: 32028 entries, 0 to 32027\n",
      "Data columns (total 14 columns):\n",
      " #   Column                 Non-Null Count  Dtype \n",
      "---  ------                 --------------  ----- \n",
      " 0   call_id                32028 non-null  int64 \n",
      " 1   destination_person_id  32028 non-null  int64 \n",
      " 2   source_person_id       32028 non-null  int64 \n",
      " 3   account_age            32028 non-null  int64 \n",
      " 4   account_state          32028 non-null  object\n",
      " 5   occupation             31933 non-null  object\n",
      " 6   language               32027 non-null  object\n",
      " 7   call_direction         32028 non-null  object\n",
      " 8   call_duration          32028 non-null  int32 \n",
      " 9   call_outcome           32028 non-null  object\n",
      " 10  call_end_date          32028 non-null  object\n",
      " 11  call_topics            32028 non-null  object\n",
      " 12  call_topic_group       32028 non-null  object\n",
      " 13  call_start_date        32028 non-null  object\n",
      "dtypes: int32(1), int64(4), object(9)\n",
      "memory usage: 3.3+ MB\n"
     ]
    }
   ],
   "source": [
    "# Additional useful information about the columns in the data set.(column name, data type)\n",
    "data.info()"
   ]
  },
  {
   "cell_type": "markdown",
   "metadata": {},
   "source": [
    "##### Question 1\n",
    "**1.1**. How many customers called Company_A multiple times in the 2 week period?"
   ]
  },
  {
   "cell_type": "code",
   "execution_count": 340,
   "metadata": {},
   "outputs": [
    {
     "name": "stdout",
     "output_type": "stream",
     "text": [
      "Number of customers who called in multiple times is: 5346\n"
     ]
    }
   ],
   "source": [
    "# Step 1: Extract all incoming calls from the overall data set since we are looking for Customers who called in\n",
    "callers = data[data.call_direction == 'Incoming'].source_person_id.value_counts()\n",
    "\n",
    "# Step 2: Filter out callers who called in more than once (multiple times == 2 or more times)\n",
    "frequent_callers = data.loc[callers[callers >= 2]]\n",
    "\n",
    "# Step 3: Get number of customers who called in multiple times\n",
    "print('Number of customers who called in multiple times is: {num_callers}'.format(num_callers = frequent_callers.shape[0]))"
   ]
  },
  {
   "cell_type": "markdown",
   "metadata": {},
   "source": [
    "**1.2**. What were we discussing with the customers who contacted us multiple times?"
   ]
  },
  {
   "cell_type": "code",
   "execution_count": 332,
   "metadata": {},
   "outputs": [
    {
     "data": {
      "text/plain": [
       "RP Remote Technical                     2988\n",
       "Code Not Received                       1830\n",
       "Code Entered Late, Code Not Received     249\n",
       "General Question                         133\n",
       "Call transfer                            106\n",
       "Ended Call- Hearing/Speaking Issues       16\n",
       "Payment inquiry                           10\n",
       "ReadyRefer 3 Days Inquiry                  7\n",
       "Account Association                        2\n",
       "Does Not Charge From Mains                 2\n",
       "Customer NOT with PS                       2\n",
       "Code Entry Support                         1\n",
       "Name: call_topics, dtype: int64"
      ]
     },
     "execution_count": 332,
     "metadata": {},
     "output_type": "execute_result"
    }
   ],
   "source": [
    "# Get the count of call_topics to see which tags were used by CSRs\n",
    "frequent_callers.call_topics.value_counts()"
   ]
  },
  {
   "cell_type": "code",
   "execution_count": 333,
   "metadata": {},
   "outputs": [
    {
     "data": {
      "text/plain": [
       "<matplotlib.axes._subplots.AxesSubplot at 0x1756652db20>"
      ]
     },
     "execution_count": 333,
     "metadata": {},
     "output_type": "execute_result"
    },
    {
     "data": {
      "image/png": "[encoded data removed]",
      "text/plain": [
       "<Figure size 576x288 with 1 Axes>"
      ]
     },
     "metadata": {
      "needs_background": "light"
     },
     "output_type": "display_data"
    }
   ],
   "source": [
    "# A better visual of the topics discussed by the callers\n",
    "frequent_callers.call_topics.value_counts().plot(kind='bar', figsize=(8, 4))"
   ]
  },
  {
   "cell_type": "markdown",
   "metadata": {},
   "source": [
    "##### Question 2\n",
    "Should we be looking at a customer's occupation when we decide when to call\n",
    "them?"
   ]
  },
  {
   "cell_type": "code",
   "execution_count": 347,
   "metadata": {},
   "outputs": [],
   "source": [
    "# Get information on Outgoing calls\n",
    "outgoing_calls = data.loc[data.call_direction == 'Outgoing']\n",
    "#Get customer occupation stats\n",
    "# data[data.call_direction == 'Outgoing']"
   ]
  },
  {
   "cell_type": "markdown",
   "metadata": {},
   "source": [
    "##### Question 3\n",
    "From region of the country do we have the greatest number of customers?"
   ]
  },
  {
   "cell_type": "code",
   "execution_count": 346,
   "metadata": {},
   "outputs": [
    {
     "data": {
      "text/plain": [
       "<matplotlib.axes._subplots.AxesSubplot at 0x17563648880>"
      ]
     },
     "execution_count": 346,
     "metadata": {},
     "output_type": "execute_result"
    },
    {
     "data": {
      "image/png": "[encoded data removed]",
      "text/plain": [
       "<Figure size 576x288 with 1 Axes>"
      ]
     },
     "metadata": {
      "needs_background": "light"
     },
     "output_type": "display_data"
    }
   ],
   "source": [
    "# Step 1: Extract all incoming calls from the overall data set since we are looking for Customers who called in\n",
    "callers = data[data.call_direction == 'Incoming']\n",
    "\n",
    "# Step 2: Get number of callers per region using the 'language' column\n",
    "callers_per_region = callers.language.value_counts()\n",
    "callers_per_region.plot(kind='bar', figsize=(8, 4))"
   ]
  },
  {
   "cell_type": "markdown",
   "metadata": {},
   "source": [
    "##### Question 4\n",
    "Which language speaking customer care personnel should we employ most?"
   ]
  },
  {
   "cell_type": "code",
   "execution_count": null,
   "metadata": {},
   "outputs": [],
   "source": []
  },
  {
   "cell_type": "code",
   "execution_count": null,
   "metadata": {},
   "outputs": [],
   "source": []
  },
  {
   "cell_type": "code",
   "execution_count": 47,
   "metadata": {},
   "outputs": [
    {
     "data": {
      "text/plain": [
       "212968    734\n",
       "212954    570\n",
       "212970    514\n",
       "100497    400\n",
       "77156     400\n",
       "         ... \n",
       "157381      3\n",
       "338396      2\n",
       "81050       2\n",
       "11151       2\n",
       "338352      2\n",
       "Name: source_person_id, Length: 91, dtype: int64"
      ]
     },
     "execution_count": 47,
     "metadata": {},
     "output_type": "execute_result"
    }
   ],
   "source": [
    "data.loc[data['call_direction'] == 'Outgoing', 'source_person_id'].value_counts()"
   ]
  },
  {
   "cell_type": "code",
   "execution_count": 29,
   "metadata": {},
   "outputs": [
    {
     "data": {
      "text/plain": [
       "Luganda           7320\n",
       "Lunyankore        3054\n",
       "English           2422\n",
       "Lusoga            1798\n",
       "Lumasaba          1331\n",
       "Ateso             1243\n",
       "Lutooro            899\n",
       "Lango              830\n",
       "Lunyoro            770\n",
       "Alur               558\n",
       "Lugbara            539\n",
       "Rukiga             525\n",
       "Lukonjo            522\n",
       "Rufumbira          399\n",
       "Samia              393\n",
       "Lugwere            374\n",
       "Acholi             352\n",
       "Japadhola          348\n",
       "Kupsabiiny         215\n",
       "Kinyarwanda        156\n",
       "Lunyole             64\n",
       "Kumam               49\n",
       "Swahili             39\n",
       "Ma'di               33\n",
       "Karamojong          17\n",
       "Lungungu            14\n",
       "Kakwa               12\n",
       "Ng'akarimojong       8\n",
       "Lubwiisi             2\n",
       "Name: language, dtype: int64"
      ]
     },
     "execution_count": 29,
     "metadata": {},
     "output_type": "execute_result"
    }
   ],
   "source": [
    "data.loc[data['call_direction'] == 'Incoming', 'language'].value_counts()"
   ]
  },
  {
   "cell_type": "code",
   "execution_count": 34,
   "metadata": {},
   "outputs": [
    {
     "data": {
      "text/plain": [
       "Codes                                  7159\n",
       "Other                                  5341\n",
       "Finance                                3741\n",
       "Sales                                  3261\n",
       "Technical/ Battery Performance         2025\n",
       "General                                1261\n",
       "Accessory Technical Issue               651\n",
       "Accounts                                532\n",
       "Accessory Non-Technical Issue           176\n",
       "Portfolio Health                        130\n",
       "Unsellable Kit (Association Errors)       9\n",
       "Name: call_topic_group, dtype: int64"
      ]
     },
     "execution_count": 34,
     "metadata": {},
     "output_type": "execute_result"
    }
   ],
   "source": [
    "data.loc[data['call_direction'] == 'Incoming', 'call_topic_group'].value_counts()"
   ]
  },
  {
   "cell_type": "code",
   "execution_count": 37,
   "metadata": {},
   "outputs": [
    {
     "data": {
      "text/plain": [
       "<matplotlib.axes._subplots.AxesSubplot at 0x2775102b220>"
      ]
     },
     "execution_count": 37,
     "metadata": {},
     "output_type": "execute_result"
    },
    {
     "data": {
      "image/png": "[encoded data removed]",
      "text/plain": [
       "<Figure size 864x864 with 1 Axes>"
      ]
     },
     "metadata": {},
     "output_type": "display_data"
    }
   ],
   "source": [
    "data.loc[data['call_direction'] == 'Incoming', 'call_topic_group'].value_counts().plot(kind='pie', figsize=(12,12))"
   ]
  },
  {
   "cell_type": "code",
   "execution_count": 36,
   "metadata": {},
   "outputs": [
    {
     "data": {
      "text/plain": [
       "Survey                                 5729\n",
       "Finance                                 719\n",
       "Sales                                   509\n",
       "Other                                   481\n",
       "General                                  98\n",
       "Codes                                    85\n",
       "Portfolio Health                         58\n",
       "Technical/ Battery Performance           32\n",
       "Accessory Technical Issue                14\n",
       "Accounts                                 10\n",
       "Accessory Non-Technical Issue             4\n",
       "Unsellable Kit (Association Errors)       3\n",
       "Name: call_topic_group, dtype: int64"
      ]
     },
     "execution_count": 36,
     "metadata": {},
     "output_type": "execute_result"
    }
   ],
   "source": [
    "data.loc[data['call_direction'] == 'Outgoing', 'call_topic_group'].value_counts()"
   ]
  },
  {
   "cell_type": "code",
   "execution_count": null,
   "metadata": {},
   "outputs": [],
   "source": []
  }
 ],
 "metadata": {
  "kernelspec": {
   "display_name": "Python 3",
   "language": "python",
   "name": "python3"
  },
  "language_info": {
   "codemirror_mode": {
    "name": "ipython",
    "version": 3
   },
   "file_extension": ".py",
   "mimetype": "text/x-python",
   "name": "python",
   "nbconvert_exporter": "python",
   "pygments_lexer": "ipython3",
   "version": "3.8.3"
  }
 },
 "nbformat": 4,
 "nbformat_minor": 4
}
